{
  "nbformat": 4,
  "nbformat_minor": 0,
  "metadata": {
    "colab": {
      "provenance": [],
      "gpuType": "T4",
      "authorship_tag": "ABX9TyPCLvjPmdcRcYqrN4r9Y0jc",
      "include_colab_link": true
    },
    "kernelspec": {
      "name": "python3",
      "display_name": "Python 3"
    },
    "language_info": {
      "name": "python"
    },
    "accelerator": "GPU"
  },
  "cells": [
    {
      "cell_type": "markdown",
      "metadata": {
        "id": "view-in-github",
        "colab_type": "text"
      },
      "source": [
        "<a href=\"https://colab.research.google.com/github/NataliaOgoltsova/AZSII_2023/blob/prz2/Ogoltsova_prz2.ipynb\" target=\"_parent\"><img src=\"https://colab.research.google.com/assets/colab-badge.svg\" alt=\"Open In Colab\"/></a>"
      ]
    },
    {
      "cell_type": "markdown",
      "source": [],
      "metadata": {
        "id": "J8hYsJm0WOl2"
      }
    },
    {
      "cell_type": "code",
      "source": [
        "!git clone https://github.com/ewatson2/EEL6812_DeepFool_Project"
      ],
      "metadata": {
        "colab": {
          "base_uri": "https://localhost:8080/"
        },
        "id": "Usxwb355WCFY",
        "outputId": "446e1075-93a8-465b-b13e-77fd9c3a2537"
      },
      "execution_count": 2,
      "outputs": [
        {
          "output_type": "stream",
          "name": "stdout",
          "text": [
            "Cloning into 'EEL6812_DeepFool_Project'...\n",
            "remote: Enumerating objects: 96, done.\u001b[K\n",
            "remote: Counting objects: 100% (3/3), done.\u001b[K\n",
            "remote: Compressing objects: 100% (2/2), done.\u001b[K\n",
            "remote: Total 96 (delta 2), reused 1 (delta 1), pack-reused 93\u001b[K\n",
            "Receiving objects: 100% (96/96), 33.99 MiB | 27.74 MiB/s, done.\n",
            "Resolving deltas: 100% (27/27), done.\n"
          ]
        }
      ]
    },
    {
      "cell_type": "code",
      "source": [
        "%cd EEL6812_DeepFool_Project"
      ],
      "metadata": {
        "colab": {
          "base_uri": "https://localhost:8080/"
        },
        "id": "qt1ddeTPWnPm",
        "outputId": "efa479e4-f202-4e6f-a315-d9c1acb65b9c"
      },
      "execution_count": 3,
      "outputs": [
        {
          "output_type": "stream",
          "name": "stdout",
          "text": [
            "/content/EEL6812_DeepFool_Project\n"
          ]
        }
      ]
    },
    {
      "cell_type": "code",
      "source": [
        "!ls"
      ],
      "metadata": {
        "colab": {
          "base_uri": "https://localhost:8080/"
        },
        "id": "gsbnXCnXW98W",
        "outputId": "a2b6231d-c548-4d06-c415-d27fe972cd54"
      },
      "execution_count": 4,
      "outputs": [
        {
          "output_type": "stream",
          "name": "stdout",
          "text": [
            "images\t\t      Model_Training_Adv.ipynb\tresults\n",
            "Model_Demo_Adv.ipynb  Model_Training.ipynb\tutils\n",
            "models\t\t      README.md\t\t\tweights\n"
          ]
        }
      ]
    },
    {
      "cell_type": "code",
      "source": [
        "import numpy as np\n",
        "import json, torch\n",
        "import os\n",
        "from torch.utils.data import DataLoader, random_split\n",
        "from torchvision import datasets, models\n",
        "from torchvision.transforms import transforms\n",
        "from models.project_models import FC_500_150, LeNet_CIFAR, LeNet_MNIST, Net\n",
        "from utils.project_utils import get_clip_bounds, evaluate_attack, display_attack"
      ],
      "metadata": {
        "id": "PKjS8T-5XAmW"
      },
      "execution_count": 5,
      "outputs": []
    },
    {
      "cell_type": "code",
      "source": [
        "rand_seed = 14\n",
        "np.random.seed(rand_seed)\n",
        "torch.manual_seed(rand_seed)\n",
        "\n",
        "use_cuda = torch.cuda.is_available()\n",
        "device = torch.device('cuda' if use_cuda else 'cpu')"
      ],
      "metadata": {
        "id": "kgT7XyWtXAst"
      },
      "execution_count": 6,
      "outputs": []
    },
    {
      "cell_type": "code",
      "source": [
        "mnist_mean = 0.5\n",
        "mnist_std = 0.5\n",
        "mnist_dim = 28\n",
        "\n",
        "mnist_min, mnist_max = get_clip_bounds(mnist_mean,\n",
        "                                       mnist_std,\n",
        "                                       mnist_dim)\n",
        "mnist_min = mnist_min.to(device)\n",
        "mnist_max = mnist_max.to(device)\n",
        "\n",
        "mnist_tf = transforms.Compose([\n",
        "    transforms.ToTensor(),\n",
        "    transforms.Normalize(\n",
        "        mean=mnist_mean,\n",
        "        std=mnist_std)])\n",
        "\n",
        "mnist_tf_train = transforms.Compose([\n",
        "    transforms.RandomHorizontalFlip(),\n",
        "    transforms.ToTensor(),\n",
        "    transforms.Normalize(\n",
        "        mean=mnist_mean,\n",
        "        std=mnist_std)])\n",
        "\n",
        "mnist_tf_inv = transforms.Compose([\n",
        "    transforms.Normalize(\n",
        "        mean=0.0,\n",
        "        std=np.divide(1.0, mnist_std)),\n",
        "    transforms.Normalize(\n",
        "        mean=np.multiply(-1.0, mnist_std),\n",
        "        std=1.0)])\n",
        "\n",
        "mnist_temp = datasets.MNIST(root='datasets/mnist', train=True,\n",
        "                            download=True, transform=mnist_tf_train)\n",
        "mnist_train, mnist_val = random_split(mnist_temp, [50000, 10000])\n",
        "\n",
        "mnist_test = datasets.MNIST(root='datasets/mnist', train=False,\n",
        "                            download=True, transform=mnist_tf)"
      ],
      "metadata": {
        "colab": {
          "base_uri": "https://localhost:8080/"
        },
        "id": "SX_W9ePBXAv-",
        "outputId": "60a7300e-73c5-4bb5-c249-8b81a30e2121"
      },
      "execution_count": 7,
      "outputs": [
        {
          "output_type": "stream",
          "name": "stdout",
          "text": [
            "Downloading http://yann.lecun.com/exdb/mnist/train-images-idx3-ubyte.gz\n",
            "Downloading http://yann.lecun.com/exdb/mnist/train-images-idx3-ubyte.gz to datasets/mnist/MNIST/raw/train-images-idx3-ubyte.gz\n"
          ]
        },
        {
          "output_type": "stream",
          "name": "stderr",
          "text": [
            "100%|██████████| 9912422/9912422 [00:00<00:00, 40168566.20it/s]\n"
          ]
        },
        {
          "output_type": "stream",
          "name": "stdout",
          "text": [
            "Extracting datasets/mnist/MNIST/raw/train-images-idx3-ubyte.gz to datasets/mnist/MNIST/raw\n",
            "\n",
            "Downloading http://yann.lecun.com/exdb/mnist/train-labels-idx1-ubyte.gz\n",
            "Downloading http://yann.lecun.com/exdb/mnist/train-labels-idx1-ubyte.gz to datasets/mnist/MNIST/raw/train-labels-idx1-ubyte.gz\n"
          ]
        },
        {
          "output_type": "stream",
          "name": "stderr",
          "text": [
            "100%|██████████| 28881/28881 [00:00<00:00, 38516913.78it/s]\n"
          ]
        },
        {
          "output_type": "stream",
          "name": "stdout",
          "text": [
            "Extracting datasets/mnist/MNIST/raw/train-labels-idx1-ubyte.gz to datasets/mnist/MNIST/raw\n",
            "\n",
            "Downloading http://yann.lecun.com/exdb/mnist/t10k-images-idx3-ubyte.gz\n",
            "Downloading http://yann.lecun.com/exdb/mnist/t10k-images-idx3-ubyte.gz to datasets/mnist/MNIST/raw/t10k-images-idx3-ubyte.gz\n"
          ]
        },
        {
          "output_type": "stream",
          "name": "stderr",
          "text": [
            "100%|██████████| 1648877/1648877 [00:00<00:00, 37097247.15it/s]"
          ]
        },
        {
          "output_type": "stream",
          "name": "stdout",
          "text": [
            "Extracting datasets/mnist/MNIST/raw/t10k-images-idx3-ubyte.gz to datasets/mnist/MNIST/raw\n"
          ]
        },
        {
          "output_type": "stream",
          "name": "stderr",
          "text": [
            "\n"
          ]
        },
        {
          "output_type": "stream",
          "name": "stdout",
          "text": [
            "\n",
            "Downloading http://yann.lecun.com/exdb/mnist/t10k-labels-idx1-ubyte.gz\n",
            "Downloading http://yann.lecun.com/exdb/mnist/t10k-labels-idx1-ubyte.gz to datasets/mnist/MNIST/raw/t10k-labels-idx1-ubyte.gz\n"
          ]
        },
        {
          "output_type": "stream",
          "name": "stderr",
          "text": [
            "100%|██████████| 4542/4542 [00:00<00:00, 17055083.95it/s]\n"
          ]
        },
        {
          "output_type": "stream",
          "name": "stdout",
          "text": [
            "Extracting datasets/mnist/MNIST/raw/t10k-labels-idx1-ubyte.gz to datasets/mnist/MNIST/raw\n",
            "\n"
          ]
        }
      ]
    },
    {
      "cell_type": "code",
      "source": [
        "cifar_mean = [0.491, 0.482, 0.447]\n",
        "cifar_std = [0.202, 0.199, 0.201]\n",
        "cifar_dim = 32\n",
        "\n",
        "cifar_min, cifar_max = get_clip_bounds(cifar_mean,\n",
        "                                       cifar_std,\n",
        "                                       cifar_dim)\n",
        "cifar_min = cifar_min.to(device)\n",
        "cifar_max = cifar_max.to(device)\n",
        "\n",
        "cifar_tf = transforms.Compose([\n",
        "    transforms.ToTensor(),\n",
        "    transforms.Normalize(\n",
        "        mean=cifar_mean,\n",
        "        std=cifar_std)])\n",
        "\n",
        "cifar_tf_train = transforms.Compose([\n",
        "    transforms.RandomCrop(\n",
        "        size=cifar_dim,\n",
        "        padding=4),\n",
        "    transforms.RandomHorizontalFlip(),\n",
        "    transforms.ToTensor(),\n",
        "    transforms.Normalize(\n",
        "        mean=cifar_mean,\n",
        "        std=cifar_std)])\n",
        "\n",
        "cifar_tf_inv = transforms.Compose([\n",
        "    transforms.Normalize(\n",
        "        mean=[0.0, 0.0, 0.0],\n",
        "        std=np.divide(1.0, cifar_std)),\n",
        "    transforms.Normalize(\n",
        "        mean=np.multiply(-1.0, cifar_mean),\n",
        "        std=[1.0, 1.0, 1.0])])\n",
        "\n",
        "cifar_temp = datasets.CIFAR10(root='datasets/cifar-10', train=True,\n",
        "                              download=True, transform=cifar_tf_train)\n",
        "cifar_train, cifar_val = random_split(cifar_temp, [40000, 10000])\n",
        "\n",
        "cifar_test = datasets.CIFAR10(root='datasets/cifar-10', train=False,\n",
        "                              download=True, transform=cifar_tf)\n",
        "\n",
        "cifar_classes = ['airplane', 'automobile', 'bird', 'cat', 'deer',\n",
        "                 'dog', 'frog', 'horse', 'ship', 'truck']"
      ],
      "metadata": {
        "colab": {
          "base_uri": "https://localhost:8080/"
        },
        "id": "AsVqVcwUXAy2",
        "outputId": "26e29cf4-049e-4593-da7f-e7b3fe0c76b1"
      },
      "execution_count": 8,
      "outputs": [
        {
          "output_type": "stream",
          "name": "stdout",
          "text": [
            "Downloading https://www.cs.toronto.edu/~kriz/cifar-10-python.tar.gz to datasets/cifar-10/cifar-10-python.tar.gz\n"
          ]
        },
        {
          "output_type": "stream",
          "name": "stderr",
          "text": [
            "100%|██████████| 170498071/170498071 [00:03<00:00, 43781908.94it/s]\n"
          ]
        },
        {
          "output_type": "stream",
          "name": "stdout",
          "text": [
            "Extracting datasets/cifar-10/cifar-10-python.tar.gz to datasets/cifar-10\n",
            "Files already downloaded and verified\n"
          ]
        }
      ]
    },
    {
      "cell_type": "code",
      "source": [
        "batch_size = 64\n",
        "workers = 4\n",
        "\n",
        "mnist_loader_train = DataLoader(mnist_train, batch_size=batch_size, shuffle=True, num_workers=workers)\n",
        "mnist_loader_val = DataLoader(mnist_val, batch_size=batch_size, shuffle=False, num_workers=workers)\n",
        "mnist_loader_test = DataLoader(mnist_test, batch_size=batch_size, shuffle=False, num_workers=workers)\n",
        "\n",
        "cifar_loader_train = DataLoader(cifar_train, batch_size=batch_size, shuffle=True, num_workers=workers)\n",
        "cifar_loader_val = DataLoader(cifar_val, batch_size=batch_size, shuffle=False, num_workers=workers)\n",
        "cifar_loader_test = DataLoader(cifar_test, batch_size=batch_size, shuffle=False, num_workers=workers)"
      ],
      "metadata": {
        "colab": {
          "base_uri": "https://localhost:8080/"
        },
        "id": "_CnkCACZXsd3",
        "outputId": "e13fb334-a968-4aeb-ac69-1576cde4dea7"
      },
      "execution_count": 9,
      "outputs": [
        {
          "output_type": "stream",
          "name": "stderr",
          "text": [
            "/usr/local/lib/python3.10/dist-packages/torch/utils/data/dataloader.py:560: UserWarning: This DataLoader will create 4 worker processes in total. Our suggested max number of worker in current system is 2, which is smaller than what this DataLoader is going to create. Please be aware that excessive worker creation might get DataLoader running slow or even freeze, lower the worker number to avoid potential slowness/freeze if necessary.\n",
            "  warnings.warn(_create_warning_msg(\n"
          ]
        }
      ]
    },
    {
      "cell_type": "code",
      "source": [
        "train_model = True\n",
        "\n",
        "epochs = 50\n",
        "epochs_nin = 100\n",
        "\n",
        "lr = 0.004\n",
        "lr_nin = 0.01\n",
        "lr_scale = 0.5\n",
        "\n",
        "momentum = 0.9\n",
        "\n",
        "print_step = 5\n",
        "\n",
        "deep_args = [10, 10, 0.02, 50]\n",
        "\n",
        "if not os.path.isdir('weights/deepfool'): os.makedirs('weights/deepfool', exist_ok=True)\n",
        "\n",
        "if not os.path.isdir('weights/fgsm'): os.makedirs('weights/fgsm', exist_ok=True)"
      ],
      "metadata": {
        "id": "PfP2T9YMXsgW"
      },
      "execution_count": 14,
      "outputs": []
    },
    {
      "cell_type": "code",
      "source": [
        "fgsm_eps = 0.6\n",
        "model = LeNet_MNIST().to(device)\n",
        "model.load_state_dict(torch.load('weights/clean/mnist_lenet.pth',map_location=torch.device('cpu')))\n",
        "evaluate_attack('mnist_lenet_fgsm.csv',\n",
        "                'results', device, model, mnist_loader_test,\n",
        "                mnist_min, mnist_max,fgsm_eps, is_fgsm=True)\n",
        "print('')\n",
        "\n",
        "evaluate_attack('mnist_lenet_deepfool.csv', 'results', device, model,\n",
        "mnist_loader_test, mnist_min, mnist_max, deep_args, is_fgsm=False)\n",
        "if device.type == 'cuda': torch.cuda.empty_cache()"
      ],
      "metadata": {
        "colab": {
          "base_uri": "https://localhost:8080/"
        },
        "id": "oO8pNRK7XsjJ",
        "outputId": "df5d3da0-6f45-4337-f664-0c4f01e768e0"
      },
      "execution_count": 15,
      "outputs": [
        {
          "output_type": "stream",
          "name": "stdout",
          "text": [
            "FGSM Test Error : 87.89%\n",
            "FGSM Robustness : 4.58e-01\n",
            "FGSM Time (All Images) : 0.29 s\n",
            "FGSM Time (Per Image) : 28.86 us\n",
            "\n",
            "DeepFool Test Error : 98.74%\n",
            "DeepFool Robustness : 9.64e-02\n",
            "DeepFool Time (All Images) : 193.32 s\n",
            "DeepFool Time (Per Image) : 19.33 ms\n"
          ]
        }
      ]
    },
    {
      "cell_type": "code",
      "source": [
        "fgsm_eps = 0.2\n",
        "model = FC_500_150().to(device)\n",
        "model.load_state_dict(torch.load('weights/clean/mnist_fc.pth', map_location=torch.device('cpu')))\n",
        "\n",
        "evaluate_attack('mnist_fc_fgsm.csv', 'results', device, model,\n",
        "                mnist_loader_test, mnist_min, mnist_max, fgsm_eps, is_fgsm=True)\n",
        "print('')\n",
        "\n",
        "evaluate_attack('mnist_fc_deepfool.csv', 'results', device, model,\n",
        "mnist_loader_test, mnist_min, mnist_max, deep_args, is_fgsm=False)\n",
        "if device.type == 'cuda': torch.cuda.empty_cache()"
      ],
      "metadata": {
        "colab": {
          "base_uri": "https://localhost:8080/"
        },
        "id": "FOLvvN3xXsl2",
        "outputId": "7f5eb346-f696-4ac1-8407-6756668f9d69"
      },
      "execution_count": 16,
      "outputs": [
        {
          "output_type": "stream",
          "name": "stdout",
          "text": [
            "FGSM Test Error : 87.08%\n",
            "FGSM Robustness : 1.56e-01\n",
            "FGSM Time (All Images) : 0.15 s\n",
            "FGSM Time (Per Image) : 14.99 us\n",
            "\n",
            "DeepFool Test Error : 97.92%\n",
            "DeepFool Robustness : 6.78e-02\n",
            "DeepFool Time (All Images) : 141.81 s\n",
            "DeepFool Time (Per Image) : 14.18 ms\n"
          ]
        }
      ]
    }
  ]
}